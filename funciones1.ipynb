{
  "nbformat": 4,
  "nbformat_minor": 0,
  "metadata": {
    "colab": {
      "name": "funciones1",
      "provenance": [],
      "collapsed_sections": [],
      "authorship_tag": "ABX9TyPnN/G+WR7uAFn7FIqzMDHQ",
      "include_colab_link": true
    },
    "kernelspec": {
      "name": "python3",
      "display_name": "Python 3"
    }
  },
  "cells": [
    {
      "cell_type": "markdown",
      "metadata": {
        "id": "view-in-github",
        "colab_type": "text"
      },
      "source": [
        "<a href=\"https://colab.research.google.com/github/embolao/pruebas_collab/blob/main/funciones1.ipynb\" target=\"_parent\"><img src=\"https://colab.research.google.com/assets/colab-badge.svg\" alt=\"Open In Colab\"/></a>"
      ]
    },
    {
      "cell_type": "markdown",
      "metadata": {
        "id": "aXefVadcrR1_"
      },
      "source": [
        "# **Definir funciones dentro de funciones:**\n",
        "\n",
        "Vamos a ir in paso más allá. En python podemos definir funciones dentro de otras funciones.\n",
        "Si que puedes declarar una función dentro de otra función, solo ten en cuenta que la vida de esa función es efimera al pertenecer al ámbito de la función donde es definida.\n",
        "\n",
        "**Va a ser creada de nuevo cada vez que llames a la función donde es creada y dejará de existir cuando esta retorne**. Esto implica que no podrá ser llamada desde fuera de la función donde es definida en principio."
      ]
    },
    {
      "cell_type": "code",
      "metadata": {
        "colab": {
          "base_uri": "https://localhost:8080/"
        },
        "id": "S_avy2pobgmY",
        "outputId": "1eb6d999-bf21-4f49-8770-d1f0f97f17a1"
      },
      "source": [
        "def hola(nombre=\"Covadonga\"):\n",
        "  print('Estás dentro de la función hola()')\n",
        "  def saluda():\n",
        "    return \"Estás dentro de la función saluda()\"\n",
        "  def bienvenida():\n",
        "    return \"Estás dentro de la función bienvenida()\"\n",
        "  print(saluda())\n",
        "  print(bienvenida())\n",
        "  print(\"De vuelta a la función hola()\")\n",
        "\n",
        "hola()"
      ],
      "execution_count": 7,
      "outputs": [
        {
          "output_type": "stream",
          "text": [
            "Estás dentro de la función hola()\n",
            "Estás dentro de la función saluda()\n",
            "Estás dentro de la función bienvenida()\n",
            "De vuelta a la función hola()\n"
          ],
          "name": "stdout"
        }
      ]
    },
    {
      "cell_type": "code",
      "metadata": {
        "id": "BTPhseKUtbII"
      },
      "source": [
        "def foo():\n",
        "  #Intentamos llamar a bar antes de que sea creada\n",
        "  try:\n",
        "    bar()\n",
        "  except:\n",
        "    print('Soy \"foo\" intentando llamar a \"bar\" antes de ser creada, no se puede.')\n",
        "  #Declaramos bar dentro de foo\n",
        "  def bar():\n",
        "    print('Hola soy \"bar\"')\n",
        "\n",
        "  #Intentamos llamar a bar de nuevo\n",
        "  print('Hola soy foo llamando a bar de nuevo.')\n",
        "  bar()\n",
        "\n",
        "#Llamamos a foo\n",
        "foo()\n",
        "#Intentamos llamar a bar desde fuera de foo\n",
        "try:\n",
        "  bar()\n",
        "except:\n",
        "  print('No se ha podido llamar a bar desde fuera de foo.')"
      ],
      "execution_count": null,
      "outputs": []
    }
  ]
}