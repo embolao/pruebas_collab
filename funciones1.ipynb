{
  "nbformat": 4,
  "nbformat_minor": 0,
  "metadata": {
    "colab": {
      "name": "funciones1",
      "provenance": [],
      "collapsed_sections": [],
      "authorship_tag": "ABX9TyM5BVLYzDMxqV6b8zriEZ8T",
      "include_colab_link": true
    },
    "kernelspec": {
      "name": "python3",
      "display_name": "Python 3"
    }
  },
  "cells": [
    {
      "cell_type": "markdown",
      "metadata": {
        "id": "view-in-github",
        "colab_type": "text"
      },
      "source": [
        "<a href=\"https://colab.research.google.com/github/embolao/pruebas_collab/blob/main/funciones1.ipynb\" target=\"_parent\"><img src=\"https://colab.research.google.com/assets/colab-badge.svg\" alt=\"Open In Colab\"/></a>"
      ]
    },
    {
      "cell_type": "markdown",
      "metadata": {
        "id": "aXefVadcrR1_"
      },
      "source": [
        "# **Definir funciones dentro de funciones:**\n",
        "\n",
        "Vamos a ir in paso más allá. En python podemos definir funciones dentro de otras funciones.\n",
        "Si que puedes declarar una función dentro de otra función, solo ten en cuenta que la vida de esa función es efimera al pertenecer al ámbito de la función donde es definida.\n",
        "\n",
        "**Va a ser creada de nuevo cada vez que llames a la función donde es creada y dejará de existir cuando esta retorne**. Esto implica que no podrá ser llamada desde fuera de la función donde es definida en principio."
      ]
    },
    {
      "cell_type": "code",
      "metadata": {
        "colab": {
          "base_uri": "https://localhost:8080/"
        },
        "id": "BTPhseKUtbII",
        "outputId": "2997063b-c97f-4ecd-b1b4-e549c13ab4b3"
      },
      "source": [
        "def foo():\n",
        "  #Intentamos llamar a bar antes de que sea creada\n",
        "  try:\n",
        "    bar()\n",
        "  except:\n",
        "    print('Soy \"foo\" intentando llamar a \"bar\" antes de ser creada, no se puede.')\n",
        "  #Declaramos bar dentro de foo\n",
        "  def bar():\n",
        "    print('Hola soy \"bar\"')\n",
        "\n",
        "  #Intentamos llamar a bar de nuevo\n",
        "  print('Hola soy foo llamando a bar de nuevo.')\n",
        "  bar()\n",
        "\n",
        "#Llamamos a foo\n",
        "foo()\n",
        "#Intentamos llamar a bar desde fuera de foo\n",
        "try:\n",
        "  bar()\n",
        "except:\n",
        "  print('No se ha podido llamar a bar desde fuera de foo.')"
      ],
      "execution_count": null,
      "outputs": [
        {
          "output_type": "stream",
          "text": [
            "Soy \"foo\" intentando llamar a \"bar\" antes de ser creada, no se puede.\n",
            "Hola soy foo llamando a bar de nuevo.\n",
            "Hola soy \"bar\"\n",
            "No se ha podido llamar a bar desde fuera de foo.\n"
          ],
          "name": "stdout"
        }
      ]
    }
  ]
}