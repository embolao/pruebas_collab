{
  "nbformat": 4,
  "nbformat_minor": 0,
  "metadata": {
    "colab": {
      "name": "POO en python.ipynb",
      "provenance": [],
      "collapsed_sections": [],
      "authorship_tag": "ABX9TyOcu18PPzzOO6lQAFlgbmXy",
      "include_colab_link": true
    },
    "kernelspec": {
      "name": "python3",
      "display_name": "Python 3"
    }
  },
  "cells": [
    {
      "cell_type": "markdown",
      "metadata": {
        "id": "view-in-github",
        "colab_type": "text"
      },
      "source": [
        "<a href=\"https://colab.research.google.com/github/embolao/pruebas_collab/blob/main/POO_en_python.ipynb\" target=\"_parent\"><img src=\"https://colab.research.google.com/assets/colab-badge.svg\" alt=\"Open In Colab\"/></a>"
      ]
    },
    {
      "cell_type": "markdown",
      "metadata": {
        "id": "IIWnDxdOg4BW"
      },
      "source": [
        "# Programación orientada a objetos\n",
        "\n"
      ]
    },
    {
      "cell_type": "markdown",
      "metadata": {
        "id": "oIOY6cIrhKBZ"
      },
      "source": [
        "## Clase\n",
        "\n",
        "Una clase es como una plantilla generadora de objetos en la cual puede tener atributos y métodos. Los métodos son funciones asociadas a una clase. Un objeto es una instancia de una clase.\n",
        "Self es el primer parámetro que se debe de tener en cada método definido de la clase. Self es una convención python."
      ]
    },
    {
      "cell_type": "markdown",
      "metadata": {
        "id": "A5dlSRs_ni0f"
      },
      "source": [
        "## Encapsulamiento\n",
        "\n",
        "Es el ocultamiento del estado de los datos miembros de un objeto de manera que solo se pueda cambiar, mediante las operaciones definidas para este objeto.\n",
        "\n",
        "Es poder definir el grado de acceso y modificación de los atributos y métodos (mediante convenciones).\n",
        "\n",
        "Ámbito protegido guión abajo (_). Solo puede ser accedido por esa clase y sus subclases.\n",
        "\n",
        "Un atributo privado únicamente accedido por la clase donde la defino (__)\n"
      ]
    },
    {
      "cell_type": "code",
      "metadata": {
        "colab": {
          "base_uri": "https://localhost:8080/"
        },
        "id": "KcneXhXwpf8I",
        "outputId": "687614a9-b8c7-49dd-9c58-61d886a510a8"
      },
      "source": [
        "class Persona():\n",
        "\n",
        "  def __init__(self,codigo,nombre,edad):\n",
        "    self.codigo=codigo\n",
        "    self._nombre=nombre\n",
        "    self.__edad=edad\n",
        "\n",
        "  def __saludar(self):\n",
        "    print('Hola '+ self.nombre)\n",
        "\n",
        "persona1=Persona(1,'Mito',26)\n",
        "print(persona1.codigo)\n",
        "#Atributo protegido con acceso guión bajo (_)\n",
        "print(persona1._nombre)\n",
        "#Átributo privado solo puede ser accedido co (_clase__atributo)\n",
        "print(persona1._Persona__edad)\n",
        "\n",
        "persona1.nombre='Code'\n",
        "persona1._Persona__edad=27\n",
        "persona1._Persona__saludar()\n",
        "print(persona1._Persona__edad)"
      ],
      "execution_count": null,
      "outputs": [
        {
          "output_type": "stream",
          "text": [
            "1\n",
            "Mito\n",
            "26\n",
            "Hola Code\n",
            "27\n"
          ],
          "name": "stdout"
        }
      ]
    },
    {
      "cell_type": "markdown",
      "metadata": {
        "id": "c8itCXsNzjGq"
      },
      "source": [
        "## Herencia y poliformismo\n",
        "\n",
        "La herencia hace menciòn a que un objeto puede ser creado gracias a la definición de otro.\n",
        "\n",
        "La herencia multiple la clase puede heredar de diferentes clases mayores.\n",
        "\n",
        "Y el polimorfismo a que un mètodo puede tener distintos comportamientos de acuerdo al objeto que lo invoca."
      ]
    },
    {
      "cell_type": "code",
      "metadata": {
        "colab": {
          "base_uri": "https://localhost:8080/"
        },
        "id": "AvnW5ZaXS4-N",
        "outputId": "d044f1c1-e002-4ef2-d1f0-350b651dc68e"
      },
      "source": [
        "from abc import ABCMeta, abstractclassmethod\n",
        "class Persona(metaclass=ABCMeta):\n",
        "  def __init__(self,codigo,nombre,edad):\n",
        "    self.codigo=codigo\n",
        "    self.nombre=nombre\n",
        "    self.edad=edad\n",
        "  @abstractclassmethod\n",
        "  def saludar(self):\n",
        "    pass\n",
        "\n",
        "class Docente(Persona):\n",
        "  def __init__(self):\n",
        "    pass\n",
        "  def saludar(self):\n",
        "    print('Hola soy el Docente')\n",
        "\n",
        "class Estudiante(Persona):\n",
        "  def __init__(self):\n",
        "    self.nombre='Code'\n",
        "    super().__init__(1,self.nombre,26)\n",
        "  def saludar(self):\n",
        "    print('Hola mi nombre es: '+ self.nombre)\n",
        "  def mostrar_edad(self,edad):\n",
        "    print('Edad: '+edad)\n",
        "\n",
        "persona1=Estudiante()\n",
        "persona1.saludar()\n",
        "\n",
        "persona2=Docente()\n",
        "persona2.saludar()"
      ],
      "execution_count": 32,
      "outputs": [
        {
          "output_type": "stream",
          "text": [
            "Hola mi nombre es: Code\n",
            "Hola soy el Docente\n"
          ],
          "name": "stdout"
        }
      ]
    }
  ]
}