{
  "nbformat": 4,
  "nbformat_minor": 0,
  "metadata": {
    "colab": {
      "name": "funciones(De python intermedio)",
      "provenance": [],
      "collapsed_sections": [],
      "authorship_tag": "ABX9TyPEENeiK2TKksI+KNrfO7yR",
      "include_colab_link": true
    },
    "kernelspec": {
      "name": "python3",
      "display_name": "Python 3"
    }
  },
  "cells": [
    {
      "cell_type": "markdown",
      "metadata": {
        "id": "view-in-github",
        "colab_type": "text"
      },
      "source": [
        "<a href=\"https://colab.research.google.com/github/embolao/pruebas_collab/blob/main/funciones(De_python_intermedio).ipynb\" target=\"_parent\"><img src=\"https://colab.research.google.com/assets/colab-badge.svg\" alt=\"Open In Colab\"/></a>"
      ]
    },
    {
      "cell_type": "markdown",
      "metadata": {
        "id": "aXefVadcrR1_"
      },
      "source": [
        "# **Definir funciones dentro de funciones:**\n",
        "\n",
        "Vamos a ir in paso más allá. En python podemos definir funciones dentro de otras funciones.\n",
        "Si que puedes declarar una función dentro de otra función, solo ten en cuenta que la vida de esa función es efimera al pertenecer al ámbito de la función donde es definida.\n",
        "\n",
        "**Va a ser creada de nuevo cada vez que llames a la función donde es creada y dejará de existir cuando esta retorne**. Esto implica que no podrá ser llamada desde fuera de la función donde es definida en principio."
      ]
    },
    {
      "cell_type": "code",
      "metadata": {
        "colab": {
          "base_uri": "https://localhost:8080/"
        },
        "id": "S_avy2pobgmY",
        "outputId": "1eb6d999-bf21-4f49-8770-d1f0f97f17a1"
      },
      "source": [
        "def hola(nombre=\"Covadonga\"):\n",
        "  print('Estás dentro de la función hola()')\n",
        "  def saluda():\n",
        "    return \"Estás dentro de la función saluda()\"\n",
        "  def bienvenida():\n",
        "    return \"Estás dentro de la función bienvenida()\"\n",
        "  print(saluda())\n",
        "  print(bienvenida())\n",
        "  print(\"De vuelta a la función hola()\")\n",
        "\n",
        "hola()"
      ],
      "execution_count": 7,
      "outputs": [
        {
          "output_type": "stream",
          "text": [
            "Estás dentro de la función hola()\n",
            "Estás dentro de la función saluda()\n",
            "Estás dentro de la función bienvenida()\n",
            "De vuelta a la función hola()\n"
          ],
          "name": "stdout"
        }
      ]
    },
    {
      "cell_type": "code",
      "metadata": {
        "colab": {
          "base_uri": "https://localhost:8080/"
        },
        "id": "BTPhseKUtbII",
        "outputId": "b575e2cd-7d64-4b98-ff36-6c6499513a4b"
      },
      "source": [
        "def foo():\n",
        "  #Intentamos llamar a bar antes de que sea creada\n",
        "  try:\n",
        "    bar()\n",
        "  except:\n",
        "    print('Soy \"foo\" intentando llamar a \"bar\" antes de ser creada, no se puede.')\n",
        "  #Declaramos bar dentro de foo\n",
        "  def bar():\n",
        "    print('Hola soy \"bar\"')\n",
        "\n",
        "  #Intentamos llamar a bar de nuevo\n",
        "  print('Hola soy foo llamando a bar de nuevo.')\n",
        "  bar()\n",
        "\n",
        "#Llamamos a foo\n",
        "foo()\n",
        "#Intentamos llamar a bar desde fuera de foo\n",
        "try:\n",
        "  bar()\n",
        "except:\n",
        "  print('No se ha podido llamar a bar desde fuera de foo.')"
      ],
      "execution_count": 8,
      "outputs": [
        {
          "output_type": "stream",
          "text": [
            "Soy \"foo\" intentando llamar a \"bar\" antes de ser creada, no se puede.\n",
            "Hola soy foo llamando a bar de nuevo.\n",
            "Hola soy \"bar\"\n",
            "No se ha podido llamar a bar desde fuera de foo.\n"
          ],
          "name": "stdout"
        }
      ]
    },
    {
      "cell_type": "markdown",
      "metadata": {
        "id": "i1qtFPoikOJt"
      },
      "source": [
        "### **Usando funciones como argumento de otras**\n",
        "\n",
        "Podemos hacer que una función tenga a otra como entrada y que la ejecute dentro de sí misma."
      ]
    },
    {
      "cell_type": "code",
      "metadata": {
        "colab": {
          "base_uri": "https://localhost:8080/"
        },
        "id": "H1RGuAgPkwi3",
        "outputId": "e4873059-6341-4efd-eaae-5d5618182a68"
      },
      "source": [
        "def hola():\n",
        "  return '¡Hola!'\n",
        "def hazEstoAntesDeHola(func):\n",
        "  print('Hacer algo antes de llamar a func')\n",
        "  print(func())\n",
        "\n",
        "hazEstoAntesDeHola(hola)"
      ],
      "execution_count": 11,
      "outputs": [
        {
          "output_type": "stream",
          "text": [
            "Hacer algo antes de llamar a func\n",
            "¡Hola!\n"
          ],
          "name": "stdout"
        }
      ]
    },
    {
      "cell_type": "markdown",
      "metadata": {
        "id": "tpvyVw66ldWP"
      },
      "source": [
        "### **Decoradores**\n",
        "\n",
        "Los decoradores son funciones que decoran a otras funciones, pudiendo ejecutar código antes y después de la función que está siendo decorada."
      ]
    },
    {
      "cell_type": "code",
      "metadata": {
        "colab": {
          "base_uri": "https://localhost:8080/"
        },
        "id": "ItiiBsbhmCLT",
        "outputId": "ccaf9f60-8f62-4184-a266-ec796ee392ab"
      },
      "source": [
        "def nuevo_decorador(a_func):\n",
        "  def envuelveLaFuncion():\n",
        "    print('Haciendo algo antes de llamar a a_func()')\n",
        "    a_func()\n",
        "    print('Haciendo algo después de llamar a a_func()')\n",
        "  return envuelveLaFuncion\n",
        "@nuevo_decorador\n",
        "def funcion_a_decorar():\n",
        "  print('Soy la función que necesita ser decorada')\n",
        "funcion_a_decorar()"
      ],
      "execution_count": 17,
      "outputs": [
        {
          "output_type": "stream",
          "text": [
            "Haciendo algo antes de llamar a a_func()\n",
            "Soy la función que necesita ser decorada\n",
            "Haciendo algo después de llamar a a_func()\n"
          ],
          "name": "stdout"
        }
      ]
    },
    {
      "cell_type": "markdown",
      "metadata": {
        "id": "EGAh2R04pFyo"
      },
      "source": [
        "Comportamiento inesperado que sobrescribe el nombre y el docstring. Arreglamos este problema usando functools.wraps."
      ]
    },
    {
      "cell_type": "code",
      "metadata": {
        "colab": {
          "base_uri": "https://localhost:8080/"
        },
        "id": "qg3pUiKAozqQ",
        "outputId": "c5adc7a1-b94f-4c13-9672-0c9571e26537"
      },
      "source": [
        "print(funcion_a_decorar.__name__)"
      ],
      "execution_count": 18,
      "outputs": [
        {
          "output_type": "stream",
          "text": [
            "envuelveLaFuncion\n"
          ],
          "name": "stdout"
        }
      ]
    },
    {
      "cell_type": "markdown",
      "metadata": {
        "id": "tla7QTUkpnUp"
      },
      "source": [
        "Modificamos el ejemplo anterior."
      ]
    },
    {
      "cell_type": "code",
      "metadata": {
        "colab": {
          "base_uri": "https://localhost:8080/"
        },
        "id": "f9qb5WZOpwYy",
        "outputId": "42787212-fb62-4fa4-9daa-1d15a77d5ce0"
      },
      "source": [
        "from functools import wraps\n",
        "def nuevo_decorador(a_func):\n",
        "  @wraps(a_func)\n",
        "  def envuelveLaFuncion():\n",
        "    print('Haciendo algo antes de llamar a a_func()')\n",
        "    a_func()\n",
        "    print('Haciendo algo después de llamar a a_func()')\n",
        "  return envuelveLaFuncion\n",
        "@nuevo_decorador\n",
        "def funcion_a_decorar():\n",
        "  print('Soy la función que necesita ser decorada')\n",
        "\n",
        "print(funcion_a_decorar.__name__)"
      ],
      "execution_count": 19,
      "outputs": [
        {
          "output_type": "stream",
          "text": [
            "funcion_a_decorar\n"
          ],
          "name": "stdout"
        }
      ]
    },
    {
      "cell_type": "markdown",
      "metadata": {
        "id": "nqzdf_XJs_px"
      },
      "source": [
        "@wraps toma una función para ser decorada y añade la funcionalidad de copiar el nombre de la función, el docstring, los argumentos y otros parámetros asociados. Esto nos permite acceder a los elementos de la función a decorar una vez decorada."
      ]
    },
    {
      "cell_type": "code",
      "metadata": {
        "colab": {
          "base_uri": "https://localhost:8080/"
        },
        "id": "ogrhOXPutpE5",
        "outputId": "ec91c003-7950-4b1b-c1ce-5c79917cea28"
      },
      "source": [
        "from functools import wraps\n",
        "def nombre_decorador(f):\n",
        "  @wraps(f)\n",
        "  def decorada(*args, **kwargs):\n",
        "    if not can_run:\n",
        "      return 'La función no se ejecutará'\n",
        "    return f(*args, **kwargs)\n",
        "  return decorada\n",
        "@nombre_decorador\n",
        "def func():\n",
        "  return('La función se esta ejecutando')\n",
        "\n",
        "can_run = True\n",
        "print(func())\n",
        "\n",
        "can_run = False\n",
        "print(func())"
      ],
      "execution_count": 20,
      "outputs": [
        {
          "output_type": "stream",
          "text": [
            "La función se esta ejecutando\n",
            "La función no se ejecutará\n"
          ],
          "name": "stdout"
        }
      ]
    },
    {
      "cell_type": "code",
      "metadata": {
        "id": "6u4qyHyO4cRh"
      },
      "source": [
        ""
      ],
      "execution_count": null,
      "outputs": []
    }
  ]
}